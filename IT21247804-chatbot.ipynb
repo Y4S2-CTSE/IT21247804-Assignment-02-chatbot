{
 "cells": [
  {
   "cell_type": "markdown",
   "id": "8a630f56",
   "metadata": {},
   "source": [
    "# CTSE Lecture Notes Chatbot using Gemini API\n",
    "# SE4010 - Current Trends in Software Engineering Assignment"
   ]
  },
  {
   "cell_type": "markdown",
   "id": "106e82d5",
   "metadata": {},
   "source": [
    "## 1. Install Required Dependencies"
   ]
  },
  {
   "cell_type": "markdown",
   "id": "635c4e52",
   "metadata": {},
   "source": [
    "# Run this cell to install all necessary packages - remove the comments\n",
    "# !pip install langchain langchain_community python-pptx sentence-transformers faiss-cpu\n",
    "# !pip install google-generativeai langchain-google-genai"
   ]
  },
  {
   "cell_type": "markdown",
   "id": "03cd0524",
   "metadata": {},
   "source": [
    "## 2. Import Libraries and Setup"
   ]
  },
  {
   "cell_type": "markdown",
   "id": "70033fc5",
   "metadata": {},
   "source": [
    "import os\n",
    "import glob\n",
    "from pptx import Presentation\n",
    "from langchain_community.vectorstores import FAISS\n",
    "from langchain.text_splitter import RecursiveCharacterTextSplitter\n",
    "from langchain_community.embeddings import HuggingFaceEmbeddings\n",
    "from langchain.chains import ConversationalRetrievalChain\n",
    "from langchain.memory import ConversationBufferMemory\n",
    "from langchain_google_genai import ChatGoogleGenerativeAI\n",
    "import google.generativeai as genai"
   ]
  }
 ],
 "metadata": {
  "kernelspec": {
   "display_name": "Python 3",
   "language": "python",
   "name": "python3"
  },
  "language_info": {
   "codemirror_mode": {
    "name": "ipython",
    "version": 3
   },
   "file_extension": ".py",
   "mimetype": "text/x-python",
   "name": "python",
   "nbconvert_exporter": "python",
   "pygments_lexer": "ipython3",
   "version": "3.12.1"
  }
 },
 "nbformat": 4,
 "nbformat_minor": 5
}
